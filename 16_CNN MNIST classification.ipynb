{
 "cells": [
  {
   "cell_type": "markdown",
   "metadata": {},
   "source": [
    "**[MDC-01]** 필요한 모듈을 임포트하고 난수의 시드를 설정한다."
   ]
  },
  {
   "cell_type": "code",
   "execution_count": 1,
   "metadata": {},
   "outputs": [],
   "source": [
    "import tensorflow as tf\n",
    "import numpy as np\n",
    "import matplotlib.pyplot as plt\n",
    "from tensorflow.examples.tutorials.mnist import input_data\n",
    "\n",
    "%matplotlib inline\n",
    "np.random.seed(20160703)\n",
    "tf.set_random_seed(20160703)"
   ]
  },
  {
   "cell_type": "markdown",
   "metadata": {},
   "source": [
    "**[MDC-02]** MNIST 데이터 세트를 준비한다."
   ]
  },
  {
   "cell_type": "code",
   "execution_count": 3,
   "metadata": {},
   "outputs": [
    {
     "name": "stdout",
     "output_type": "stream",
     "text": [
      "Extracting ./토요일_src/data/train-images-idx3-ubyte.gz\n",
      "Extracting ./토요일_src/data/train-labels-idx1-ubyte.gz\n",
      "Extracting ./토요일_src/data/t10k-images-idx3-ubyte.gz\n",
      "Extracting ./토요일_src/data/t10k-labels-idx1-ubyte.gz\n"
     ]
    }
   ],
   "source": [
    "mnist = input_data.read_data_sets(\"./토요일_src/data/\", one_hot=True)"
   ]
  },
  {
   "cell_type": "markdown",
   "metadata": {},
   "source": [
    "**[MDC-03]** 필터에 해당하는 Variable을 준비하고 입력 데이터에 필터와 풀링 계층을 적용하는 계산식을 정의한다."
   ]
  },
  {
   "cell_type": "code",
   "execution_count": 4,
   "metadata": {},
   "outputs": [],
   "source": [
    "num_filters = 16\n",
    "\n",
    "x = tf.placeholder(tf.float32, [None, 784])\n",
    "x_image = tf.reshape(x, [-1,28,28,1])\n",
    "\n",
    "W_conv = tf.Variable(tf.truncated_normal([5,5,1,num_filters],\n",
    "                                         stddev=0.1))\n",
    "h_conv = tf.nn.conv2d(x_image, W_conv,\n",
    "                      strides=[1,1,1,1], padding='SAME')\n",
    "h_pool =tf.nn.max_pool(h_conv, ksize=[1,2,2,1],\n",
    "                       strides=[1,2,2,1], padding='SAME')"
   ]
  },
  {
   "cell_type": "markdown",
   "metadata": {},
   "source": [
    "**[MDC-04]** 풀링 계층의 출력을 전 결합층을 경유해서 소프트맥스 함수로 입력하는 계산식을 정의한다."
   ]
  },
  {
   "cell_type": "code",
   "execution_count": 5,
   "metadata": {},
   "outputs": [],
   "source": [
    "h_pool_flat = tf.reshape(h_pool, [-1, 14*14*num_filters])\n",
    "\n",
    "num_units1 = 14*14*num_filters\n",
    "num_units2 = 1024\n",
    "\n",
    "w2 = tf.Variable(tf.truncated_normal([num_units1, num_units2]))\n",
    "b2 = tf.Variable(tf.zeros([num_units2]))\n",
    "hidden2 = tf.nn.relu(tf.matmul(h_pool_flat, w2) + b2)\n",
    "\n",
    "w0 = tf.Variable(tf.zeros([num_units2, 10]))\n",
    "b0 = tf.Variable(tf.zeros([10]))\n",
    "p = tf.nn.softmax(tf.matmul(hidden2, w0) + b0)"
   ]
  },
  {
   "cell_type": "markdown",
   "metadata": {},
   "source": [
    "**[MDC-05]** 오차 함수 loss, 트레이닝 알고리즘 train_step, 정답률 accuracy를 정의한다."
   ]
  },
  {
   "cell_type": "code",
   "execution_count": 6,
   "metadata": {},
   "outputs": [],
   "source": [
    "t = tf.placeholder(tf.float32, [None, 10])\n",
    "loss = -tf.reduce_sum(t * tf.log(p))\n",
    "train_step = tf.train.AdamOptimizer(0.0005).minimize(loss)\n",
    "correct_prediction = tf.equal(tf.argmax(p, 1), tf.argmax(t, 1))\n",
    "accuracy = tf.reduce_mean(tf.cast(correct_prediction, tf.float32))"
   ]
  },
  {
   "cell_type": "markdown",
   "metadata": {},
   "source": [
    "**[MDC-06]** 세션을 준비하고 Variable을 초기화한다."
   ]
  },
  {
   "cell_type": "code",
   "execution_count": 7,
   "metadata": {
    "scrolled": false
   },
   "outputs": [],
   "source": [
    "sess = tf.Session()\n",
    "sess.run(tf.global_variables_initializer())\n",
    "saver = tf.train.Saver()"
   ]
  },
  {
   "cell_type": "markdown",
   "metadata": {},
   "source": [
    "**[MDC-07]** 파라미터 최적화를 4000회 반복한다\n",
    "\n",
    "최종적으로 테스트 세트에 대해 약 98%의 정답률을 얻을 수 있다."
   ]
  },
  {
   "cell_type": "code",
   "execution_count": 8,
   "metadata": {},
   "outputs": [
    {
     "name": "stdout",
     "output_type": "stream",
     "text": [
      "Step: 100, Loss: 2387.759521, Accuracy: 0.928200\n",
      "Step: 200, Loss: 2044.267822, Accuracy: 0.937100\n",
      "Step: 300, Loss: 1424.071777, Accuracy: 0.958200\n",
      "Step: 400, Loss: 1163.767334, Accuracy: 0.963600\n",
      "Step: 500, Loss: 1061.417480, Accuracy: 0.969400\n",
      "Step: 600, Loss: 1003.050232, Accuracy: 0.968700\n",
      "Step: 700, Loss: 1050.239380, Accuracy: 0.969400\n",
      "Step: 800, Loss: 870.526978, Accuracy: 0.974300\n",
      "Step: 900, Loss: 846.846191, Accuracy: 0.974000\n",
      "Step: 1000, Loss: 900.901489, Accuracy: 0.972500\n",
      "Step: 1100, Loss: 826.629150, Accuracy: 0.974800\n",
      "Step: 1200, Loss: 882.477478, Accuracy: 0.972700\n",
      "Step: 1300, Loss: 1023.264709, Accuracy: 0.971500\n",
      "Step: 1400, Loss: 784.716675, Accuracy: 0.976400\n",
      "Step: 1500, Loss: 830.614868, Accuracy: 0.975300\n",
      "Step: 1600, Loss: 724.573486, Accuracy: 0.976900\n",
      "Step: 1700, Loss: 691.795898, Accuracy: 0.979500\n",
      "Step: 1800, Loss: 717.886353, Accuracy: 0.977500\n",
      "Step: 1900, Loss: 669.335083, Accuracy: 0.979500\n",
      "Step: 2000, Loss: 729.064453, Accuracy: 0.978200\n"
     ]
    }
   ],
   "source": [
    "i = 0\n",
    "for _ in range(2000):\n",
    "    i += 1\n",
    "    batch_xs, batch_ts = mnist.train.next_batch(100)\n",
    "    sess.run(train_step, feed_dict={x: batch_xs, t: batch_ts})\n",
    "    if i % 100 == 0:\n",
    "        loss_val, acc_val = sess.run([loss, accuracy],\n",
    "            feed_dict={x:mnist.test.images, t:mnist.test.labels})\n",
    "        print ('Step: %d, Loss: %f, Accuracy: %f'\n",
    "               % (i, loss_val, acc_val))\n",
    "        saver.save(sess, './토요일_src/data/ckpt/mdc_session.ckpt', global_step=i)"
   ]
  },
  {
   "cell_type": "markdown",
   "metadata": {},
   "source": [
    "**[MDC-08]** 세션 정보를 저장한 파일이 생성되고 있음을 확인한다."
   ]
  },
  {
   "cell_type": "code",
   "execution_count": 9,
   "metadata": {},
   "outputs": [
    {
     "name": "stdout",
     "output_type": "stream",
     "text": [
      "./토요일_src/data/ckpt/mdc_session.ckpt-1600.data-00000-of-00001\n",
      "./토요일_src/data/ckpt/mdc_session.ckpt-1600.index\n",
      "./토요일_src/data/ckpt/mdc_session.ckpt-1600.meta\n",
      "./토요일_src/data/ckpt/mdc_session.ckpt-1700.data-00000-of-00001\n",
      "./토요일_src/data/ckpt/mdc_session.ckpt-1700.index\n",
      "./토요일_src/data/ckpt/mdc_session.ckpt-1700.meta\n",
      "./토요일_src/data/ckpt/mdc_session.ckpt-1800.data-00000-of-00001\n",
      "./토요일_src/data/ckpt/mdc_session.ckpt-1800.index\n",
      "./토요일_src/data/ckpt/mdc_session.ckpt-1800.meta\n",
      "./토요일_src/data/ckpt/mdc_session.ckpt-1900.data-00000-of-00001\n",
      "./토요일_src/data/ckpt/mdc_session.ckpt-1900.index\n",
      "./토요일_src/data/ckpt/mdc_session.ckpt-1900.meta\n",
      "./토요일_src/data/ckpt/mdc_session.ckpt-2000.data-00000-of-00001\n",
      "./토요일_src/data/ckpt/mdc_session.ckpt-2000.index\n",
      "./토요일_src/data/ckpt/mdc_session.ckpt-2000.meta\n",
      "./토요일_src/data/ckpt/mdc_session.ckpt-3600.data-00000-of-00001\n",
      "./토요일_src/data/ckpt/mdc_session.ckpt-3600.index\n",
      "./토요일_src/data/ckpt/mdc_session.ckpt-3600.meta\n",
      "./토요일_src/data/ckpt/mdc_session.ckpt-3700.data-00000-of-00001\n",
      "./토요일_src/data/ckpt/mdc_session.ckpt-3700.index\n",
      "./토요일_src/data/ckpt/mdc_session.ckpt-3700.meta\n",
      "./토요일_src/data/ckpt/mdc_session.ckpt-3800.data-00000-of-00001\n",
      "./토요일_src/data/ckpt/mdc_session.ckpt-3800.index\n",
      "./토요일_src/data/ckpt/mdc_session.ckpt-3800.meta\n",
      "./토요일_src/data/ckpt/mdc_session.ckpt-3900.data-00000-of-00001\n",
      "./토요일_src/data/ckpt/mdc_session.ckpt-3900.index\n",
      "./토요일_src/data/ckpt/mdc_session.ckpt-3900.meta\n",
      "./토요일_src/data/ckpt/mdc_session.ckpt-4000.data-00000-of-00001\n",
      "./토요일_src/data/ckpt/mdc_session.ckpt-4000.index\n",
      "./토요일_src/data/ckpt/mdc_session.ckpt-4000.meta\n"
     ]
    }
   ],
   "source": [
    "!dir ./토요일_src/data/ckpt/mdc_session*"
   ]
  },
  {
   "cell_type": "code",
   "execution_count": 10,
   "metadata": {},
   "outputs": [],
   "source": [
    "sess.close()"
   ]
  },
  {
   "cell_type": "code",
   "execution_count": null,
   "metadata": {},
   "outputs": [],
   "source": []
  }
 ],
 "metadata": {
  "kernelspec": {
   "display_name": "Python 3",
   "language": "python",
   "name": "python3"
  },
  "language_info": {
   "codemirror_mode": {
    "name": "ipython",
    "version": 3
   },
   "file_extension": ".py",
   "mimetype": "text/x-python",
   "name": "python",
   "nbconvert_exporter": "python",
   "pygments_lexer": "ipython3",
   "version": "3.6.8"
  }
 },
 "nbformat": 4,
 "nbformat_minor": 2
}
