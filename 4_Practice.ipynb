{
 "cells": [
  {
   "cell_type": "markdown",
   "metadata": {},
   "source": [
    "## 문제 1\n",
    "`tf.constant()`으로 '자신의 이름'을 저장하여 Session을 통해 출력하도록 실행한다."
   ]
  },
  {
   "cell_type": "code",
   "execution_count": 1,
   "metadata": {},
   "outputs": [
    {
     "data": {
      "text/plain": [
       "b'TaehoLi'"
      ]
     },
     "execution_count": 1,
     "metadata": {},
     "output_type": "execute_result"
    }
   ],
   "source": [
    "import tensorflow as tf\n",
    "\n",
    "my_name = tf.constant('TaehoLi')\n",
    "sess = tf.Session()\n",
    "sess.run(my_name)"
   ]
  },
  {
   "cell_type": "markdown",
   "metadata": {},
   "source": [
    "## 문제 2\n",
    "임의의 8개 정수로 shape가 [8]인 구성된 tensor를 만들고, Tensor 값을 출력한다."
   ]
  },
  {
   "cell_type": "code",
   "execution_count": 2,
   "metadata": {},
   "outputs": [
    {
     "data": {
      "text/plain": [
       "array([1, 2, 3, 4, 5, 6, 7, 8], dtype=int32)"
      ]
     },
     "execution_count": 2,
     "metadata": {},
     "output_type": "execute_result"
    }
   ],
   "source": [
    "a = tf.constant([1,2,3,4,5,6,7,8])\n",
    "sess = tf.Session()\n",
    "sess.run(a)"
   ]
  },
  {
   "cell_type": "markdown",
   "metadata": {},
   "source": [
    "## 문제 3\n",
    "문제 2번의 tensor를 tf.reshape()함수로 변환하여 2행 4열로 만들어고 Session을 통해 출력한다."
   ]
  },
  {
   "cell_type": "code",
   "execution_count": 3,
   "metadata": {},
   "outputs": [
    {
     "data": {
      "text/plain": [
       "array([[1, 2, 3, 4],\n",
       "       [5, 6, 7, 8]], dtype=int32)"
      ]
     },
     "execution_count": 3,
     "metadata": {},
     "output_type": "execute_result"
    }
   ],
   "source": [
    "b = tf.reshape(a, [2,4])\n",
    "sess = tf.Session()\n",
    "sess.run(b)"
   ]
  },
  {
   "cell_type": "markdown",
   "metadata": {},
   "source": [
    "## 문제 4\n",
    "문제 3번의 tensor를 tf.transpose()함수를 사용하여 전치행렬을 만들고 하고 Session을 통해 출력한다."
   ]
  },
  {
   "cell_type": "code",
   "execution_count": 4,
   "metadata": {},
   "outputs": [
    {
     "data": {
      "text/plain": [
       "array([[1, 5],\n",
       "       [2, 6],\n",
       "       [3, 7],\n",
       "       [4, 8]], dtype=int32)"
      ]
     },
     "execution_count": 4,
     "metadata": {},
     "output_type": "execute_result"
    }
   ],
   "source": [
    "c = tf.transpose(b)\n",
    "sess = tf.Session()\n",
    "sess.run(c)"
   ]
  },
  {
   "cell_type": "markdown",
   "metadata": {},
   "source": [
    "## 문제 5\n",
    "3번, 4번의 tensor 행렬곱을 실행하고 그 결과를 Session을 통해 출력한다."
   ]
  },
  {
   "cell_type": "code",
   "execution_count": 5,
   "metadata": {},
   "outputs": [
    {
     "data": {
      "text/plain": [
       "array([[ 30,  70],\n",
       "       [ 70, 174]], dtype=int32)"
      ]
     },
     "execution_count": 5,
     "metadata": {},
     "output_type": "execute_result"
    }
   ],
   "source": [
    "d = tf.matmul(b, c)\n",
    "sess = tf.Session()\n",
    "sess.run(d)"
   ]
  },
  {
   "cell_type": "markdown",
   "metadata": {},
   "source": [
    "## 문제 6\n",
    "중첩 for 문을 사용하여 2차원 배열을 만든다. 이 때 shape \\[4,8\\]이 되도록 하고 임의의 값을 넣는다. 이 값을 tensor에 넣은 다음 rank가 3이 되도록 shape를 변경한다."
   ]
  },
  {
   "cell_type": "code",
   "execution_count": 6,
   "metadata": {},
   "outputs": [
    {
     "name": "stdout",
     "output_type": "stream",
     "text": [
      "(1, 4, 8)\n",
      "(2, 2, 8)\n",
      "[[[1 1 1 1 1 1 1 1]\n",
      "  [1 1 1 1 1 1 1 1]]\n",
      "\n",
      " [[1 1 1 1 1 1 1 1]\n",
      "  [1 1 1 1 1 1 1 1]]]\n"
     ]
    }
   ],
   "source": [
    "N, M = 4, 8\n",
    "arr = [[1 for j in range(M)] for i in range(N)]\n",
    "\n",
    "e = tf.constant([arr])\n",
    "f = tf.reshape(e, [2,2,8])\n",
    "sess = tf.Session()\n",
    "\n",
    "print(e.shape)\n",
    "print(f.shape)\n",
    "print(sess.run(f))"
   ]
  },
  {
   "cell_type": "markdown",
   "metadata": {},
   "source": [
    "## 문제 7\n",
    "1부터 10까지 수를 가진 배열을 만들고 선언하여 tf.placeholder() 넣어서 Session을 통해 출력한다."
   ]
  },
  {
   "cell_type": "code",
   "execution_count": 7,
   "metadata": {},
   "outputs": [
    {
     "data": {
      "text/plain": [
       "array([ 1,  2,  3,  4,  5,  6,  7,  8,  9, 10], dtype=int32)"
      ]
     },
     "execution_count": 7,
     "metadata": {},
     "output_type": "execute_result"
    }
   ],
   "source": [
    "import numpy as np\n",
    "\n",
    "g = tf.placeholder(tf.int32)\n",
    "sess = tf.Session()\n",
    "sess.run(g, feed_dict={g: np.arange(1,11)})"
   ]
  },
  {
   "cell_type": "markdown",
   "metadata": {},
   "source": [
    "## 문제 8\n",
    "문제 7번처럼 tf.placeholder()에 값을 넣되, 배열들의 총합을 구하여 Session을 통해 출력한다. reduce_sum 함수를 사용한다."
   ]
  },
  {
   "cell_type": "code",
   "execution_count": 8,
   "metadata": {},
   "outputs": [
    {
     "data": {
      "text/plain": [
       "array(55, dtype=int32)"
      ]
     },
     "execution_count": 8,
     "metadata": {},
     "output_type": "execute_result"
    }
   ],
   "source": [
    "h = tf.placeholder(tf.int32)\n",
    "sess = tf.Session()\n",
    "sess.run(h, feed_dict={h: np.sum(np.arange(1,11))})"
   ]
  },
  {
   "cell_type": "markdown",
   "metadata": {},
   "source": [
    "## 문제 9\n",
    "\n",
    "tf.placeholder()를 2개와 이 2개의 텐서로 사칙연산(덧셈, 뺄셈, 곱셈, 나눗셈)하는 tensor를 만든 다음, Session을 통해 출력한다. 이 때 placeholder의 텐서 shape가 [5]인 임의의 배열이 들어가도록 한다."
   ]
  },
  {
   "cell_type": "code",
   "execution_count": 9,
   "metadata": {},
   "outputs": [
    {
     "data": {
      "text/plain": [
       "array([[4.3011923 , 1.5305688 , 0.35991576, 8.805467  , 1.2203012 ]],\n",
       "      dtype=float32)"
      ]
     },
     "execution_count": 9,
     "metadata": {},
     "output_type": "execute_result"
    }
   ],
   "source": [
    "i = tf.placeholder(tf.float32)\n",
    "j = tf.placeholder(tf.float32)\n",
    "k = i+j\n",
    "l = i-j\n",
    "m = i*j\n",
    "n = i/j\n",
    "sess = tf.Session()\n",
    "sess.run(n, feed_dict={i: np.random.random([1,5]), j: np.random.random([1,5])})"
   ]
  },
  {
   "cell_type": "code",
   "execution_count": null,
   "metadata": {},
   "outputs": [],
   "source": []
  }
 ],
 "metadata": {
  "kernelspec": {
   "display_name": "Python 3",
   "language": "python",
   "name": "python3"
  },
  "language_info": {
   "codemirror_mode": {
    "name": "ipython",
    "version": 3
   },
   "file_extension": ".py",
   "mimetype": "text/x-python",
   "name": "python",
   "nbconvert_exporter": "python",
   "pygments_lexer": "ipython3",
   "version": "3.6.8"
  }
 },
 "nbformat": 4,
 "nbformat_minor": 2
}
