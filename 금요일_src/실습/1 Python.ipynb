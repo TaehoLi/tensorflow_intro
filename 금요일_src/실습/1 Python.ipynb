{
 "cells": [
  {
   "cell_type": "markdown",
   "metadata": {},
   "source": [
    "# Python\n",
    "\n",
    "#### Python은 고수준 동적 타입을 가지는 프로그래밍으로, 모든 자료형이 객체로 이루어져 있다.\n",
    "\n",
    "---"
   ]
  },
  {
   "cell_type": "markdown",
   "metadata": {},
   "source": [
    "## 자료형\n",
    "#### python은 자료형을 알려주지 않아도 넣는 변수에 따라 알아서 결정된다."
   ]
  },
  {
   "cell_type": "code",
   "execution_count": 1,
   "metadata": {},
   "outputs": [
    {
     "name": "stdout",
     "output_type": "stream",
     "text": [
      "5\n",
      "2.1\n",
      "s\n",
      "Hello World!\n",
      "5 2.1 s Hello World!\n",
      "<class 'int'> <class 'float'> <class 'str'> <class 'str'>\n"
     ]
    },
    {
     "data": {
      "text/plain": [
       "'Hello World!'"
      ]
     },
     "execution_count": 1,
     "metadata": {},
     "output_type": "execute_result"
    }
   ],
   "source": [
    "a = 5                # 정수형\n",
    "b = 2.1              # 실수형\n",
    "c = 's'              # 문자형\n",
    "d = 'Hello World!'   # 문자열\n",
    "\n",
    "print(a)    \n",
    "print(b)\n",
    "print(c)\n",
    "print(d)\n",
    "print(a, b, c, d)\n",
    "print(type(a), type(b), type(c), type(d))\n",
    "\n",
    "d # 한 셀의 마지막 줄에 변수만 둘 경우 print없이 출력 가능"
   ]
  },
  {
   "cell_type": "markdown",
   "metadata": {},
   "source": [
    "## 연산자\n",
    "\n",
    "#### 사칙 연산은 c언어와 동일하다."
   ]
  },
  {
   "cell_type": "code",
   "execution_count": 2,
   "metadata": {},
   "outputs": [
    {
     "name": "stdout",
     "output_type": "stream",
     "text": [
      "a =  5 , b =  2.1\n",
      "=============================\n",
      "a +  b =  7.1\n",
      "a -  b =  2.9\n",
      "a *  b =  10.5\n",
      "a /  b =  2.380952380952381\n",
      "a // b =  2.0\n",
      "a %  b =  0.7999999999999998\n",
      "a ** b =  29.36547357720048\n"
     ]
    }
   ],
   "source": [
    "print(\"a = \", a, \", b = \", b)  # 이전의 실행했던 변수 값들이 \n",
    "                               # 저장되어있다.\n",
    "print(\"=============================\")\n",
    "print(\"a +  b = \", a + b)     # 덧셈\n",
    "print(\"a -  b = \", a - b)     # 뺄셈\n",
    "print(\"a *  b = \", a * b)     # 곱셈\n",
    "print(\"a /  b = \", a / b)     # 나눗셈(소수점 포함)\n",
    "print(\"a // b = \", a // b)    # 나눗셈(소수점 제외)\n",
    "print(\"a %  b = \", a % b)     # 나머지 연산\n",
    "print(\"a ** b = \", a ** b)    # 제곱 연산"
   ]
  },
  {
   "cell_type": "markdown",
   "metadata": {},
   "source": [
    "## 문자열\n",
    "#### python은 문자열을 표현하는 방법이 다양하다."
   ]
  },
  {
   "cell_type": "code",
   "execution_count": 3,
   "metadata": {},
   "outputs": [
    {
     "name": "stdout",
     "output_type": "stream",
     "text": [
      "Hello World\n",
      "Hello World\n",
      "  \n",
      "  Python is easy, man~\n",
      "  Python is cool, man~\n",
      "  Python is good, man~\n",
      "\n",
      "\n",
      "파이썬 쉬워요\n",
      "파이썬 굉장해요\n",
      "파이썬 좋아요\n",
      "\n"
     ]
    }
   ],
   "source": [
    "print(\"Hello World\") # \"\"\n",
    "print('Hello World') # ''\n",
    "print(\"\"\"  \n",
    "  Python is easy, man~\n",
    "  Python is cool, man~\n",
    "  Python is good, man~\n",
    "\"\"\")                 # \"\"\" \"\"\"\n",
    "print(\n",
    "'''\n",
    "파이썬 쉬워요\n",
    "파이썬 굉장해요\n",
    "파이썬 좋아요\n",
    "'''\n",
    ")                    # ''' '''"
   ]
  },
  {
   "cell_type": "markdown",
   "metadata": {},
   "source": [
    "#### 문자열을 +를 사용해 이어 붙일 수 있다."
   ]
  },
  {
   "cell_type": "code",
   "execution_count": 4,
   "metadata": {},
   "outputs": [
    {
     "name": "stdout",
     "output_type": "stream",
     "text": [
      "여기로 오라\n"
     ]
    }
   ],
   "source": [
    "s1 = \"여기로 \"\n",
    "s2 = \"오라\"\n",
    "print(s1 + s2)"
   ]
  },
  {
   "cell_type": "markdown",
   "metadata": {},
   "source": [
    "#### 같은 문자열을 *를 사용해서 여러번 나타낼 수 있다."
   ]
  },
  {
   "cell_type": "code",
   "execution_count": 5,
   "metadata": {
    "scrolled": true
   },
   "outputs": [
    {
     "name": "stdout",
     "output_type": "stream",
     "text": [
      "오라오라오라오라오라오라오라오라오라오라\n"
     ]
    }
   ],
   "source": [
    "print(s2 * 10)"
   ]
  },
  {
   "cell_type": "markdown",
   "metadata": {},
   "source": [
    "#### print문은 기본적으로 끝에 \\n이 자동으로 들어가므로 end를 통해 수정할 수 있다."
   ]
  },
  {
   "cell_type": "code",
   "execution_count": 6,
   "metadata": {},
   "outputs": [
    {
     "name": "stdout",
     "output_type": "stream",
     "text": [
      "저기로 어서 가라\n"
     ]
    }
   ],
   "source": [
    "print(\"저기로 \", end=\"어서 \")\n",
    "print(\"가라\")"
   ]
  },
  {
   "cell_type": "markdown",
   "metadata": {},
   "source": [
    "#### 모든 자료형은 객체이므로 다양한 함수가 내장되어있다."
   ]
  },
  {
   "cell_type": "code",
   "execution_count": 7,
   "metadata": {},
   "outputs": [
    {
     "name": "stdout",
     "output_type": "stream",
     "text": [
      "s.capitalize()          = Hello\n",
      "s.upper()               = HELLO\n",
      "s.rjust(7)              =   hello\n",
      "s.center(7)             =  hello \n",
      "s.replace('l', '(ell)') = he(ell)(ell)o\n",
      "'  world '.strip()      = world\n"
     ]
    }
   ],
   "source": [
    "s = \"hello\"\n",
    "print(\"s.capitalize()          =\", s.capitalize())  # 첫글자만 대문자로 바꾸기\n",
    "print(\"s.upper()               =\", s.upper()) # 모두 대문자로 바꾸기\n",
    "print(\"s.rjust(7)              =\", s.rjust(7)) # 7칸 공간을 차지하고 오른쪽 정렬\n",
    "print(\"s.center(7)             =\", s.center(7)) # 7칸 공간을 차지하고 중앙 정렬\n",
    "print(\"s.replace('l', '(ell)') =\", s.replace('l', '(ell)')) # l을 (ell)로 모두 바꾸기\n",
    "print(\"'  world '.strip()      =\", '  world '.strip()) # 양쪽 빈 공간을 제거하기"
   ]
  },
  {
   "cell_type": "markdown",
   "metadata": {},
   "source": [
    "## 리스트\n",
    "#### C언어의 배열과 유사한 형태로 list가 있다."
   ]
  },
  {
   "cell_type": "code",
   "execution_count": 8,
   "metadata": {},
   "outputs": [
    {
     "name": "stdout",
     "output_type": "stream",
     "text": [
      "[1, 2, 3, 4]\n"
     ]
    }
   ],
   "source": [
    "nums = [1, 2, 3, 4]\n",
    "print(nums)"
   ]
  },
  {
   "cell_type": "markdown",
   "metadata": {},
   "source": [
    "#### 인덱스를 통해 다양한 접근이 가능하다."
   ]
  },
  {
   "cell_type": "code",
   "execution_count": 9,
   "metadata": {},
   "outputs": [
    {
     "name": "stdout",
     "output_type": "stream",
     "text": [
      "[1, 2, 3, 4]\n",
      "[3, 4]\n",
      "[3, 4]\n",
      "[1, 2]\n",
      "[1, 2, 3, 4]\n",
      "[1, 2, 3]\n",
      "[1, 2, 8, 9]\n"
     ]
    }
   ],
   "source": [
    "print(nums)        # \"[0, 1, 2, 3, 4]\" 출력\n",
    "print(nums[2:4])   # 인덱스 2에서 4까지 (끝 부분 4를 제외) 가져오기; \"[2, 3]\" 출력\n",
    "print(nums[2:])    # 인덱스 2에서 끝까지; \"[2, 3, 4]\" 출력\n",
    "print(nums[:2])    # 시작부터 인덱스 2까지 (2 제외); \"[0, 1]\" 출력\n",
    "print(nums[:])     # 모든 리스트 요소; \"[0, 1, 2, 3, 4]\" 출력\n",
    "print(nums[:-1])   # 음수로도 slice 가능; \"[0, 1, 2, 3]\" 출력\n",
    "nums[2:4] = [8, 9] # slice해서 하위 리스트에 새로운 값을 넣을 수 있다.\n",
    "print(nums)        # Prints \"[0, 1, 8, 9, 4]\""
   ]
  },
  {
   "cell_type": "markdown",
   "metadata": {},
   "source": [
    "#### 리스트안에 다양한 원소들이 존재할 수 있다."
   ]
  },
  {
   "cell_type": "code",
   "execution_count": 10,
   "metadata": {},
   "outputs": [
    {
     "name": "stdout",
     "output_type": "stream",
     "text": [
      "1\n",
      "2\n",
      "a\n",
      "3.4\n",
      "hello world\n"
     ]
    }
   ],
   "source": [
    "a = [1, 2, 'a', 3.4, 'hello world']\n",
    "\n",
    "print(a[0])\n",
    "print(a[1])\n",
    "print(a[2])\n",
    "print(a[3])\n",
    "print(a[4])"
   ]
  },
  {
   "cell_type": "markdown",
   "metadata": {},
   "source": [
    "#### 리스트도 객체이기 때문에 원소를 추가하고 제거하는 함수들이 존재한다."
   ]
  },
  {
   "cell_type": "code",
   "execution_count": 11,
   "metadata": {},
   "outputs": [
    {
     "name": "stdout",
     "output_type": "stream",
     "text": [
      "[1, 2, 'a', 3.4, 'hello world']\n",
      "[1, 2, 'a', 3.4, 'hello world', 2]\n",
      "[1, 1.5, 2, 'a', 3.4, 'hello world', 2]\n",
      "[1, 2, 'a', 3.4, 'hello world', 2]\n"
     ]
    }
   ],
   "source": [
    "print(a)\n",
    "\n",
    "# 요소 끝에 추가\n",
    "a.append(2)\n",
    "print(a)\n",
    "\n",
    "# 요소 중간에 (위치, 값) 추가\n",
    "a.insert(1, 1.5)\n",
    "print(a)\n",
    "\n",
    "# 요소 제거\n",
    "del a[1]\n",
    "print(a)"
   ]
  },
  {
   "cell_type": "markdown",
   "metadata": {},
   "source": [
    "#### 그 외 리스트 관련 함수들이 많이 있다.\n",
    "\n",
    "- 정렬 : `a.sort()`  \n",
    "- 뒤집기 : `a.reverse()`  \n",
    "- 위치 반환 : `a.index(element)`  element의 위치를 반환한다.  \n",
    "- 제거 : `a.remove(element)`   가장 처음 나오는 element를 제거한다.  \n",
    "- pop : `a.pop()` 가장 마지막 원소를 반환한다.  \n",
    "- 원소 개수 : `a.count(element)` element의 개수를 반환한다.  \n",
    "- 확장 : `a.extend(b)` 또 다른 리스트 b를 붙인다.  "
   ]
  },
  {
   "cell_type": "markdown",
   "metadata": {},
   "source": [
    "## 딕셔너리\n",
    "#### key, value 쌍으로 데이터를 가지고 있다. 다양한 데이터가 들어갈 수 있다."
   ]
  },
  {
   "cell_type": "code",
   "execution_count": 12,
   "metadata": {},
   "outputs": [
    {
     "name": "stdout",
     "output_type": "stream",
     "text": [
      "{'apple': 1000, 'pea': 200}\n"
     ]
    }
   ],
   "source": [
    "dictionary = {'apple': 1000, 'pea': 200}\n",
    "\n",
    "print(dictionary)"
   ]
  },
  {
   "cell_type": "code",
   "execution_count": 13,
   "metadata": {},
   "outputs": [
    {
     "name": "stdout",
     "output_type": "stream",
     "text": [
      "1000\n",
      "200\n"
     ]
    }
   ],
   "source": [
    "print(dictionary['apple'])\n",
    "print(dictionary['pea'])"
   ]
  },
  {
   "cell_type": "markdown",
   "metadata": {},
   "source": [
    "## 튜플\n",
    "#### 리스트와는 다르게 변하지 않도록 하는 배열"
   ]
  },
  {
   "cell_type": "code",
   "execution_count": 14,
   "metadata": {},
   "outputs": [
    {
     "name": "stdout",
     "output_type": "stream",
     "text": [
      "(4, 5, 6, 2)\n",
      "('a', 'b', 'c')\n"
     ]
    }
   ],
   "source": [
    "a = 4, 5, 6, 2    # a = (4, 5, 6, 2)\n",
    "b = \"a\", 'b', 'c'\n",
    "\n",
    "print(a)\n",
    "print(b)"
   ]
  },
  {
   "cell_type": "markdown",
   "metadata": {},
   "source": [
    "#### 수정이 되지 않는다."
   ]
  },
  {
   "cell_type": "code",
   "execution_count": 15,
   "metadata": {},
   "outputs": [
    {
     "ename": "TypeError",
     "evalue": "'tuple' object does not support item assignment",
     "output_type": "error",
     "traceback": [
      "\u001b[0;31m---------------------------------------------------------------------------\u001b[0m",
      "\u001b[0;31mTypeError\u001b[0m                                 Traceback (most recent call last)",
      "\u001b[0;32m<ipython-input-15-e3464f018f03>\u001b[0m in \u001b[0;36m<module>\u001b[0;34m\u001b[0m\n\u001b[0;32m----> 1\u001b[0;31m \u001b[0ma\u001b[0m\u001b[0;34m[\u001b[0m\u001b[0;36m1\u001b[0m\u001b[0;34m]\u001b[0m\u001b[0;34m=\u001b[0m\u001b[0;36m2\u001b[0m\u001b[0;34m\u001b[0m\u001b[0;34m\u001b[0m\u001b[0m\n\u001b[0m",
      "\u001b[0;31mTypeError\u001b[0m: 'tuple' object does not support item assignment"
     ]
    }
   ],
   "source": [
    "a[1]=2"
   ]
  },
  {
   "cell_type": "markdown",
   "metadata": {},
   "source": [
    "#### 튜플을 이용한 변수 주고 받기"
   ]
  },
  {
   "cell_type": "code",
   "execution_count": 16,
   "metadata": {},
   "outputs": [
    {
     "name": "stdout",
     "output_type": "stream",
     "text": [
      "0 123\n",
      "123 0\n"
     ]
    }
   ],
   "source": [
    "c = 123\n",
    "b = 0\n",
    "\n",
    "print(b, c)\n",
    "\n",
    "b, c = c, b\n",
    "\n",
    "print(b, c)"
   ]
  },
  {
   "cell_type": "markdown",
   "metadata": {},
   "source": [
    "## Bool\n",
    "\n",
    "#### python에는 부울(boolean)값도 가지고 있다."
   ]
  },
  {
   "cell_type": "code",
   "execution_count": 17,
   "metadata": {},
   "outputs": [
    {
     "name": "stdout",
     "output_type": "stream",
     "text": [
      "True\n",
      "False\n"
     ]
    }
   ],
   "source": [
    "참 = True      # 한글 변수도 가질 수 있다.\n",
    "거짓 = False\n",
    "print(참)\n",
    "print(거짓)"
   ]
  },
  {
   "cell_type": "markdown",
   "metadata": {},
   "source": [
    "## 비교 연산자"
   ]
  },
  {
   "cell_type": "code",
   "execution_count": 18,
   "metadata": {},
   "outputs": [
    {
     "name": "stdout",
     "output_type": "stream",
     "text": [
      "0 < 2 : True\n",
      "4 > 6 : False\n",
      "1 <= 3 : True\n",
      "1 >= 3 : False\n",
      "\"Hello\" == \"hi\": False\n",
      "\"Hello\" != \"hi\": True\n"
     ]
    }
   ],
   "source": [
    "print('0 < 2 :', 0 < 2)\n",
    "print('4 > 6 :', 4 > 6)\n",
    "print('1 <= 3 :', 1 <= 3)\n",
    "print('1 >= 3 :', 1 >= 3)\n",
    "print('\"Hello\" == \"hi\":', \"Hello\" == \"hi\")\n",
    "print('\"Hello\" != \"hi\":', \"Hello\" != \"hi\")"
   ]
  },
  {
   "cell_type": "markdown",
   "metadata": {},
   "source": [
    "## 논리 연산자\n",
    "#### C에서 사용하던 `||`, `&&`, `!` 대신 `or`, `and`, `not`을 사용한다.  "
   ]
  },
  {
   "cell_type": "code",
   "execution_count": 19,
   "metadata": {},
   "outputs": [
    {
     "name": "stdout",
     "output_type": "stream",
     "text": [
      "False\n",
      "True\n",
      "False\n"
     ]
    }
   ],
   "source": [
    "condition1 = True\n",
    "condition2 = False\n",
    "\n",
    "print(condition1 and condition2)\n",
    "print(condition1 or condition2)\n",
    "print(not condition1)"
   ]
  },
  {
   "cell_type": "markdown",
   "metadata": {},
   "source": [
    "## 조건문 (if)"
   ]
  },
  {
   "cell_type": "markdown",
   "metadata": {},
   "source": [
    "\n",
    "#### python에서는 `{`, `}` 로 감싸는 것 대신, `들여쓰기`를 사용한다. 들여쓰기는 4칸, 2칸, 탭 3가지 있지만 하나로 통일해야 에러를 방지할 수 있다. \n",
    "\n",
    "``` python\n",
    "if 조건문:\n",
    "    문장1\n",
    "    문장2\n",
    "elif:\n",
    "    문장3\n",
    "    문장4\n",
    "else:\n",
    "    문장5\n",
    "    문장6\n",
    "```\n",
    "\n",
    "#### if 문에서도 ()가 필요하지 않고 조건 뒤에 `:`를 이용하여 조건식이 끝났음을 알린다."
   ]
  },
  {
   "cell_type": "code",
   "execution_count": 20,
   "metadata": {},
   "outputs": [
    {
     "name": "stdout",
     "output_type": "stream",
     "text": [
      "A\n",
      "축하합니다.\n"
     ]
    }
   ],
   "source": [
    "score = 80\n",
    "if score < 50:\n",
    "    print('F')\n",
    "elif score < 60:\n",
    "    print('D')\n",
    "elif score < 70:\n",
    "    print('C')\n",
    "elif score < 80:\n",
    "    print('B')\n",
    "elif score < 90:\n",
    "    print('A')\n",
    "else:\n",
    "    print(\"S\")\n",
    "\n",
    "print(\"축하합니다.\")"
   ]
  },
  {
   "cell_type": "markdown",
   "metadata": {},
   "source": [
    "## 반복문"
   ]
  },
  {
   "cell_type": "markdown",
   "metadata": {},
   "source": [
    "### while\n",
    "break나 continue도 동일하게 사용 가능하다"
   ]
  },
  {
   "cell_type": "code",
   "execution_count": 21,
   "metadata": {},
   "outputs": [
    {
     "name": "stdout",
     "output_type": "stream",
     "text": [
      "1\n",
      "2\n",
      "3\n",
      "4\n",
      "5\n",
      "6\n",
      "7\n",
      "8\n",
      "9\n",
      "10\n"
     ]
    }
   ],
   "source": [
    "i = 0\n",
    "while i < 10:\n",
    "    i += 1\n",
    "    print(i)"
   ]
  },
  {
   "cell_type": "markdown",
   "metadata": {},
   "source": [
    "### 2. for\n",
    "#### 리스트나 튜플, 딕셔너리의 각 요소에 접근하거나, 일정한 반복을 위해 보통 range()와 같이 사용\n",
    "> 시작과 끝을 지정 : `range(3, 7)` --> 3~6까지 수 생성  \n",
    "> 숫자 감소 : `range(7, -1, -1)` --> 7~0까지 수 생성  "
   ]
  },
  {
   "cell_type": "code",
   "execution_count": 22,
   "metadata": {},
   "outputs": [
    {
     "name": "stdout",
     "output_type": "stream",
     "text": [
      "range(10) : range(0, 10)\n",
      "list(range(10)) : [0, 1, 2, 3, 4, 5, 6, 7, 8, 9]\n",
      "0\n",
      "1\n",
      "2\n",
      "3\n",
      "4\n",
      "5\n",
      "6\n",
      "7\n",
      "8\n",
      "9\n"
     ]
    }
   ],
   "source": [
    "print('range(10) :', range(10))\n",
    "print('list(range(10)) :', list(range(10)))\n",
    "for i in range(10):\n",
    "    print(i)"
   ]
  },
  {
   "cell_type": "code",
   "execution_count": 23,
   "metadata": {},
   "outputs": [
    {
     "name": "stdout",
     "output_type": "stream",
     "text": [
      "1 3 2 6 4 8 9 \n",
      "apple : 1000 pear : 3000 \n",
      "how are you \n"
     ]
    }
   ],
   "source": [
    "list_data = [1,3,2,6,4,8,9]\n",
    "dictionary_data = {'apple': 1000, 'pear': 3000}\n",
    "tuple_data = ('how', 'are', 'you')\n",
    "\n",
    "for l in list_data:\n",
    "    print(l, end=\" \")\n",
    "print()\n",
    "\n",
    "for key in dictionary_data:\n",
    "    print(key, \":\", dictionary_data[key], end=\" \")\n",
    "print()\n",
    "\n",
    "for t in tuple_data:\n",
    "    print(t, end=\" \")\n",
    "print()\n"
   ]
  },
  {
   "cell_type": "markdown",
   "metadata": {},
   "source": [
    "## 함수\n",
    "#### `def`를 통해 손쉽게 함수를 정의할 수 있습니다."
   ]
  },
  {
   "cell_type": "code",
   "execution_count": 24,
   "metadata": {},
   "outputs": [
    {
     "name": "stdout",
     "output_type": "stream",
     "text": [
      "12\n"
     ]
    }
   ],
   "source": [
    "def add(a=1, b=3):\n",
    "    print(a + b)\n",
    "    \n",
    "def get_max(a, b):\n",
    "    return max(a, b)\n",
    "\n",
    "add(a= 5, b=7)"
   ]
  },
  {
   "cell_type": "markdown",
   "metadata": {},
   "source": [
    "#### 일반적인 함수처럼 값을 넣어서 호출할 수 있다."
   ]
  },
  {
   "cell_type": "code",
   "execution_count": 25,
   "metadata": {},
   "outputs": [
    {
     "name": "stdout",
     "output_type": "stream",
     "text": [
      "13\n"
     ]
    }
   ],
   "source": [
    "a, b = 3, 10\n",
    "add(a, b)"
   ]
  },
  {
   "cell_type": "markdown",
   "metadata": {},
   "source": [
    "#### default 값이 정해져있고 그것을 사용하려고 한다면 입력할 필요없다."
   ]
  },
  {
   "cell_type": "code",
   "execution_count": 26,
   "metadata": {},
   "outputs": [
    {
     "name": "stdout",
     "output_type": "stream",
     "text": [
      "4\n"
     ]
    }
   ],
   "source": [
    "add()"
   ]
  },
  {
   "cell_type": "markdown",
   "metadata": {},
   "source": [
    "#### 원하는 매개변수를 명시적으로 넣어줄 수 있다."
   ]
  },
  {
   "cell_type": "code",
   "execution_count": 27,
   "metadata": {},
   "outputs": [
    {
     "name": "stdout",
     "output_type": "stream",
     "text": [
      "40\n"
     ]
    }
   ],
   "source": [
    "add(a=10, b=30)"
   ]
  },
  {
   "cell_type": "markdown",
   "metadata": {},
   "source": [
    "#### 반환 값이 여러 개라면?"
   ]
  },
  {
   "cell_type": "code",
   "execution_count": 28,
   "metadata": {
    "scrolled": true
   },
   "outputs": [
    {
     "name": "stdout",
     "output_type": "stream",
     "text": [
      "15\n",
      "5\n"
     ]
    }
   ],
   "source": [
    "def add_sub(a, b):\n",
    "    return a+b, a-b\n",
    "\n",
    "a = 10; b = 5\n",
    "add, sub = add_sub(a, b)\n",
    "print(add)\n",
    "print(sub)"
   ]
  },
  {
   "cell_type": "markdown",
   "metadata": {},
   "source": [
    "## Good"
   ]
  },
  {
   "cell_type": "code",
   "execution_count": null,
   "metadata": {},
   "outputs": [],
   "source": []
  }
 ],
 "metadata": {
  "kernelspec": {
   "display_name": "Python 3",
   "language": "python",
   "name": "python3"
  },
  "language_info": {
   "codemirror_mode": {
    "name": "ipython",
    "version": 3
   },
   "file_extension": ".py",
   "mimetype": "text/x-python",
   "name": "python",
   "nbconvert_exporter": "python",
   "pygments_lexer": "ipython3",
   "version": "3.6.7"
  }
 },
 "nbformat": 4,
 "nbformat_minor": 2
}
