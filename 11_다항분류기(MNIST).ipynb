{
 "cells": [
  {
   "cell_type": "markdown",
   "metadata": {},
   "source": [
    "**[MDS-01]** 모듈을 임포트한다."
   ]
  },
  {
   "cell_type": "code",
   "execution_count": 1,
   "metadata": {},
   "outputs": [],
   "source": [
    "import numpy as np\n",
    "import tensorflow as tf\n",
    "import matplotlib.pyplot as plt\n",
    "from tensorflow.examples.tutorials.mnist import input_data\n",
    "%matplotlib inline\n",
    "np.random.seed(20160604)"
   ]
  },
  {
   "cell_type": "markdown",
   "metadata": {},
   "source": [
    "**[MDS-02]** MNIST 데이터 세트를 다운로드해서 오브젝트에 저장한다."
   ]
  },
  {
   "cell_type": "code",
   "execution_count": 3,
   "metadata": {
    "scrolled": true
   },
   "outputs": [
    {
     "name": "stdout",
     "output_type": "stream",
     "text": [
      "Extracting ./토요일_src/data/train-images-idx3-ubyte.gz\n",
      "Extracting ./토요일_src/data/train-labels-idx1-ubyte.gz\n",
      "Extracting ./토요일_src/data/t10k-images-idx3-ubyte.gz\n",
      "Extracting ./토요일_src/data/t10k-labels-idx1-ubyte.gz\n"
     ]
    }
   ],
   "source": [
    "mnist = input_data.read_data_sets(\"./토요일_src/data/\", one_hot=True)"
   ]
  },
  {
   "cell_type": "markdown",
   "metadata": {},
   "source": [
    "**[참고]** 다운로드하고 변수로 저장한 mnist에는 다음과 같은 변수들을 담고 있다.\n",
    "\n",
    "- train\n",
    "- validation\n",
    "- test\n",
    "\n",
    "그리고 각각 images, labels들을 가지고 있는데 한번 출력해보자"
   ]
  },
  {
   "cell_type": "code",
   "execution_count": 4,
   "metadata": {},
   "outputs": [
    {
     "name": "stdout",
     "output_type": "stream",
     "text": [
      "mnist = Datasets(train=<tensorflow.contrib.learn.python.learn.datasets.mnist.DataSet object at 0x7f49884f0860>, validation=<tensorflow.contrib.learn.python.learn.datasets.mnist.DataSet object at 0x7f49884f06d8>, test=<tensorflow.contrib.learn.python.learn.datasets.mnist.DataSet object at 0x7f49884f0898>)\n"
     ]
    }
   ],
   "source": [
    "print(\"mnist =\",mnist)"
   ]
  },
  {
   "cell_type": "code",
   "execution_count": 5,
   "metadata": {
    "scrolled": true
   },
   "outputs": [
    {
     "name": "stdout",
     "output_type": "stream",
     "text": [
      "mnist.train = <tensorflow.contrib.learn.python.learn.datasets.mnist.DataSet object at 0x7f49884f0860>\n",
      "mnist.validation = <tensorflow.contrib.learn.python.learn.datasets.mnist.DataSet object at 0x7f49884f06d8>\n",
      "mnist.test = <tensorflow.contrib.learn.python.learn.datasets.mnist.DataSet object at 0x7f49884f0898>\n"
     ]
    }
   ],
   "source": [
    "print(\"mnist.train =\", mnist.train)\n",
    "print(\"mnist.validation =\", mnist.validation)\n",
    "print(\"mnist.test =\", mnist.test)"
   ]
  },
  {
   "cell_type": "code",
   "execution_count": 6,
   "metadata": {},
   "outputs": [
    {
     "name": "stdout",
     "output_type": "stream",
     "text": [
      "mnist.train.images = (55000, 784)\n",
      "mnist.train.labels = (55000, 10)\n",
      "mnist.validation.images = (5000, 784)\n",
      "mnist.validation.labels = (5000, 10)\n",
      "mnist.test.images = (10000, 784)\n",
      "mnist.test.labels = (10000, 10)\n"
     ]
    }
   ],
   "source": [
    "print(\"mnist.train.images =\", mnist.train.images.shape)\n",
    "print(\"mnist.train.labels =\", mnist.train.labels.shape)\n",
    "print(\"mnist.validation.images =\", mnist.validation.images.shape)\n",
    "print(\"mnist.validation.labels =\", mnist.validation.labels.shape)\n",
    "print(\"mnist.test.images =\", mnist.test.images.shape)\n",
    "print(\"mnist.test.labels =\", mnist.test.labels.shape)"
   ]
  },
  {
   "cell_type": "markdown",
   "metadata": {},
   "source": [
    "**[MDS-03]** 트레이닝 세트에서 10개의 데이터를 추출하고 이미지 데이터와 라벨을 각각의 변수에 저장한다."
   ]
  },
  {
   "cell_type": "code",
   "execution_count": 7,
   "metadata": {},
   "outputs": [],
   "source": [
    "images, labels = mnist.train.next_batch(10)"
   ]
  },
  {
   "cell_type": "markdown",
   "metadata": {},
   "source": [
    "**[MDS-04]** 첫 번째 이미지 데이터를 확인한다. 각 픽셀의 농도가 나열된 리스트(array 오브젝트)로 되어 있다."
   ]
  },
  {
   "cell_type": "code",
   "execution_count": 8,
   "metadata": {},
   "outputs": [
    {
     "name": "stdout",
     "output_type": "stream",
     "text": [
      "(10, 784)\n",
      "(10, 10)\n"
     ]
    }
   ],
   "source": [
    "print(images.shape)\n",
    "print(labels.shape)"
   ]
  },
  {
   "cell_type": "code",
   "execution_count": 9,
   "metadata": {},
   "outputs": [
    {
     "name": "stdout",
     "output_type": "stream",
     "text": [
      "0 0 0 0 0 0 0 0 0 0 0 0 0 0 0 0 0 0 0 0 0 0 0 0 0 0 0 0 \n",
      "0 0 0 0 0 0 0 0 0 0 0 0 0 0 0 0 0 0 0 0 0 0 0 0 0 0 0 0 \n",
      "0 0 0 0 0 0 0 0 0 0 0 0 0 0 0 0 0 0 0 0 0 0 0 0 0 0 0 0 \n",
      "0 0 0 0 0 0 0 0 0 0 0 0 0 0 0 0 0 0 0 0 0 0 0 0 0 0 0 0 \n",
      "0 0 0 0 0 0 0 0 0 0 0 0 0 0 0 0 0 0 0 0 0 0 0 0 0 0 0 0 \n",
      "0 0 0 0 0 0 0 0 0 0 0 0 0 0 0 0 0 0 0 0 0 0 0 0 0 0 0 0 \n",
      "0 0 0 0 0 0 0 0 0 0 0 0 0 0 0 0 0 0 0 0 0 0 0 0 0 0 0 0 \n",
      "0 0 0 0 0 0 0 0 0 0 0 0 0 0 1 1 1 0 0 0 0 0 0 0 0 0 0 0 \n",
      "0 0 0 0 0 0 0 0 0 0 0 0 1 1 1 1 1 1 1 0 0 0 0 0 0 0 0 0 \n",
      "0 0 0 0 0 0 0 0 0 0 0 1 1 1 1 0 1 1 1 0 0 0 0 0 0 0 0 0 \n",
      "0 0 0 0 0 0 0 0 0 0 1 1 0 0 0 0 0 0 1 0 0 0 0 0 0 0 0 0 \n",
      "0 0 0 0 0 0 0 0 0 1 1 0 0 0 0 0 0 0 1 0 0 0 0 0 0 0 0 0 \n",
      "0 0 0 0 0 0 0 0 0 1 0 0 0 0 0 0 0 1 1 0 0 0 0 0 0 0 0 0 \n",
      "0 0 0 0 0 0 0 0 0 1 0 0 0 0 0 0 1 1 0 0 0 0 0 0 0 0 0 0 \n",
      "0 0 0 0 0 0 0 0 0 1 0 0 0 0 1 1 1 1 0 0 0 0 0 0 0 0 0 0 \n",
      "0 0 0 0 0 0 0 0 0 1 1 1 1 1 1 1 1 0 0 0 0 0 0 0 0 0 0 0 \n",
      "0 0 0 0 0 0 0 0 0 1 1 1 1 1 1 1 1 0 0 0 0 0 0 0 0 0 0 0 \n",
      "0 0 0 0 0 0 0 0 0 0 1 0 0 0 0 1 1 0 0 0 0 0 0 0 0 0 0 0 \n",
      "0 0 0 0 0 0 0 0 0 0 0 0 0 0 0 1 1 0 0 0 0 0 0 0 0 0 0 0 \n",
      "0 0 0 0 0 0 0 0 0 0 0 0 0 0 0 1 0 0 0 0 0 0 0 0 0 0 0 0 \n",
      "0 0 0 0 0 0 0 0 0 0 0 0 0 0 1 1 0 0 0 0 0 0 0 0 0 0 0 0 \n",
      "0 0 0 0 0 0 0 0 0 0 0 0 0 0 1 1 0 0 0 0 0 0 0 0 0 0 0 0 \n",
      "0 0 0 0 0 0 0 0 0 0 0 0 0 0 1 1 0 0 0 0 0 0 0 0 0 0 0 0 \n",
      "0 0 0 0 0 0 0 0 0 0 0 0 0 0 1 0 0 0 0 0 0 0 0 0 0 0 0 0 \n",
      "0 0 0 0 0 0 0 0 0 0 0 0 0 1 1 0 0 0 0 0 0 0 0 0 0 0 0 0 \n",
      "0 0 0 0 0 0 0 0 0 0 0 0 0 1 1 0 0 0 0 0 0 0 0 0 0 0 0 0 \n",
      "0 0 0 0 0 0 0 0 0 0 0 0 0 1 1 0 0 0 0 0 0 0 0 0 0 0 0 0 \n",
      "0 0 0 0 0 0 0 0 0 0 0 0 0 0 0 0 0 0 0 0 0 0 0 0 0 0 0 0 \n"
     ]
    }
   ],
   "source": [
    "for y in range(28):\n",
    "    for x in range(28):\n",
    "        print(\"{:.0f}\".format(images[0][y * 28 + x]), end=\" \")\n",
    "    print()"
   ]
  },
  {
   "cell_type": "code",
   "execution_count": 10,
   "metadata": {},
   "outputs": [
    {
     "data": {
      "text/plain": [
       "<matplotlib.image.AxesImage at 0x7f49880be6a0>"
      ]
     },
     "execution_count": 10,
     "metadata": {},
     "output_type": "execute_result"
    },
    {
     "data": {
      "image/png": "[encoded data removed]",
      "text/plain": [
       "<Figure size 432x288 with 1 Axes>"
      ]
     },
     "metadata": {
      "needs_background": "light"
     },
     "output_type": "display_data"
    }
   ],
   "source": [
    "plt.imshow(np.reshape(images[0], [28, 28]))"
   ]
  },
  {
   "cell_type": "markdown",
   "metadata": {},
   "source": [
    "**[MDS-05]** 해당 라벨을 확인한다. 첫 번째 요소를 0번째로 볼 때 앞에서부터 7번째 요소가 1로 되어 있으므로, 숫자 '7'의 이미지라는 것을 나타낸다."
   ]
  },
  {
   "cell_type": "code",
   "execution_count": 11,
   "metadata": {},
   "outputs": [
    {
     "name": "stdout",
     "output_type": "stream",
     "text": [
      "[0. 0. 0. 0. 0. 0. 0. 0. 0. 1.]\n"
     ]
    }
   ],
   "source": [
    "print(labels[0])"
   ]
  },
  {
   "cell_type": "markdown",
   "metadata": {},
   "source": [
    "**[MDS-06]** 이미지 데이터를 실제 이미지로 출력해본다."
   ]
  },
  {
   "cell_type": "code",
   "execution_count": 12,
   "metadata": {},
   "outputs": [
    {
     "data": {
      "image/png": "[encoded data removed]",
      "text/plain": [
       "<Figure size 576x288 with 10 Axes>"
      ]
     },
     "metadata": {},
     "output_type": "display_data"
    }
   ],
   "source": [
    "fig = plt.figure(figsize=(8,4))\n",
    "for c, (image, label) in enumerate(zip(images, labels)):\n",
    "    subplot = fig.add_subplot(2,5,c+1)\n",
    "    subplot.set_xticks([]) # x축 값들을 설정\n",
    "    subplot.set_yticks([]) # y축 값들을 설정\n",
    "    subplot.set_title('num %d' % np.argmax(label))\n",
    "    subplot.imshow(image.reshape((28,28)), vmin=0, vmax=1, cmap=plt.cm.gray_r)"
   ]
  },
  {
   "cell_type": "markdown",
   "metadata": {},
   "source": [
    "**[MSE-03]** 소프트맥스 함수에 의한 확률 p 계산식을 준비한다.\n",
    "\n",
    "$$p = Softmax(x * w + w0)$$"
   ]
  },
  {
   "cell_type": "code",
   "execution_count": 13,
   "metadata": {},
   "outputs": [
    {
     "data": {
      "text/plain": [
       "<tf.Tensor 'Placeholder:0' shape=(?, 784) dtype=float32>"
      ]
     },
     "execution_count": 13,
     "metadata": {},
     "output_type": "execute_result"
    }
   ],
   "source": [
    "x = tf.placeholder(tf.float32, [None, 784])\n",
    "x"
   ]
  },
  {
   "cell_type": "code",
   "execution_count": 14,
   "metadata": {},
   "outputs": [
    {
     "data": {
      "text/plain": [
       "<tf.Variable 'Variable:0' shape=(784, 10) dtype=float32_ref>"
      ]
     },
     "execution_count": 14,
     "metadata": {},
     "output_type": "execute_result"
    }
   ],
   "source": [
    "w = tf.Variable(tf.zeros([784, 10]))\n",
    "w"
   ]
  },
  {
   "cell_type": "code",
   "execution_count": 15,
   "metadata": {},
   "outputs": [
    {
     "data": {
      "text/plain": [
       "<tf.Variable 'Variable_1:0' shape=(10,) dtype=float32_ref>"
      ]
     },
     "execution_count": 15,
     "metadata": {},
     "output_type": "execute_result"
    }
   ],
   "source": [
    "w0 = tf.Variable(tf.zeros([10]))\n",
    "w0"
   ]
  },
  {
   "cell_type": "code",
   "execution_count": 16,
   "metadata": {},
   "outputs": [
    {
     "data": {
      "text/plain": [
       "<tf.Tensor 'add:0' shape=(?, 10) dtype=float32>"
      ]
     },
     "execution_count": 16,
     "metadata": {},
     "output_type": "execute_result"
    }
   ],
   "source": [
    "f = tf.matmul(x, w) + w0\n",
    "f"
   ]
  },
  {
   "cell_type": "code",
   "execution_count": 17,
   "metadata": {},
   "outputs": [
    {
     "data": {
      "text/plain": [
       "<tf.Tensor 'Softmax:0' shape=(?, 10) dtype=float32>"
      ]
     },
     "execution_count": 17,
     "metadata": {},
     "output_type": "execute_result"
    }
   ],
   "source": [
    "p = tf.nn.softmax(f)\n",
    "p"
   ]
  },
  {
   "cell_type": "markdown",
   "metadata": {},
   "source": [
    "**[MSE-04]** 오차 함수 loss와 트레이닝 알고리즘 train_step을 준비한다."
   ]
  },
  {
   "cell_type": "code",
   "execution_count": 18,
   "metadata": {},
   "outputs": [
    {
     "data": {
      "text/plain": [
       "<tf.Tensor 'Placeholder_1:0' shape=(?, 10) dtype=float32>"
      ]
     },
     "execution_count": 18,
     "metadata": {},
     "output_type": "execute_result"
    }
   ],
   "source": [
    "t = tf.placeholder(tf.float32, [None, 10])\n",
    "t"
   ]
  },
  {
   "cell_type": "code",
   "execution_count": 19,
   "metadata": {},
   "outputs": [
    {
     "data": {
      "text/plain": [
       "<tf.Tensor 'Neg:0' shape=() dtype=float32>"
      ]
     },
     "execution_count": 19,
     "metadata": {},
     "output_type": "execute_result"
    }
   ],
   "source": [
    "loss = -tf.reduce_sum(t * tf.log(p))\n",
    "loss"
   ]
  },
  {
   "cell_type": "code",
   "execution_count": 20,
   "metadata": {},
   "outputs": [
    {
     "data": {
      "text/plain": [
       "<tf.Operation 'Adam' type=NoOp>"
      ]
     },
     "execution_count": 20,
     "metadata": {},
     "output_type": "execute_result"
    }
   ],
   "source": [
    "train_step = tf.train.AdamOptimizer().minimize(loss)\n",
    "train_step"
   ]
  },
  {
   "cell_type": "markdown",
   "metadata": {},
   "source": [
    "**[MSE-05]** 정답률 accuracy를 정의한다."
   ]
  },
  {
   "cell_type": "code",
   "execution_count": 21,
   "metadata": {},
   "outputs": [],
   "source": [
    "correct_prediction = tf.equal(tf.argmax(p, 1), tf.argmax(t, 1))"
   ]
  },
  {
   "cell_type": "code",
   "execution_count": 22,
   "metadata": {},
   "outputs": [],
   "source": [
    "accuracy = tf.reduce_mean(tf.cast(correct_prediction, tf.float32))"
   ]
  },
  {
   "cell_type": "markdown",
   "metadata": {},
   "source": [
    "위 두 개의 코드는 이와 같이 동작한다."
   ]
  },
  {
   "cell_type": "code",
   "execution_count": 23,
   "metadata": {},
   "outputs": [],
   "source": [
    "a = np.array([[0.1, 0.2, 0.7],\n",
    "              [0.4, 0.3, 0.3],\n",
    "              [0.5, 0.2, 0.3]])\n",
    "b = np.array([[0, 0, 1],\n",
    "              [1, 0, 0],\n",
    "              [0, 1, 0]])"
   ]
  },
  {
   "cell_type": "code",
   "execution_count": 24,
   "metadata": {},
   "outputs": [
    {
     "name": "stdout",
     "output_type": "stream",
     "text": [
      "[2 0 0] [2 0 1]\n"
     ]
    }
   ],
   "source": [
    "argmax_a, argmax_b = np.argmax(a, 1), np.argmax(b, 1)\n",
    "print(argmax_a, argmax_b)"
   ]
  },
  {
   "cell_type": "code",
   "execution_count": 25,
   "metadata": {},
   "outputs": [
    {
     "name": "stdout",
     "output_type": "stream",
     "text": [
      "[ True  True False]\n"
     ]
    }
   ],
   "source": [
    "equal = np.equal(np.argmax(a, 1), np.argmax(b, 1))\n",
    "print(equal)"
   ]
  },
  {
   "cell_type": "code",
   "execution_count": 26,
   "metadata": {},
   "outputs": [
    {
     "name": "stdout",
     "output_type": "stream",
     "text": [
      "[1. 1. 0.]\n"
     ]
    }
   ],
   "source": [
    "equal = equal.astype(np.float32)\n",
    "print(equal)"
   ]
  },
  {
   "cell_type": "code",
   "execution_count": 27,
   "metadata": {},
   "outputs": [
    {
     "data": {
      "text/plain": [
       "2.0"
      ]
     },
     "execution_count": 27,
     "metadata": {},
     "output_type": "execute_result"
    }
   ],
   "source": [
    "np.sum(equal)"
   ]
  },
  {
   "cell_type": "markdown",
   "metadata": {},
   "source": [
    "**[MSE-06]** 세션을 준비하고 Variable을 초기화한다."
   ]
  },
  {
   "cell_type": "code",
   "execution_count": 28,
   "metadata": {},
   "outputs": [],
   "source": [
    "sess = tf.InteractiveSession()\n",
    "sess.run(tf.global_variables_initializer())"
   ]
  },
  {
   "cell_type": "markdown",
   "metadata": {},
   "source": [
    "**[MSE-07]** 파라미터 최적화를 2000회 반복한다.\n",
    "\n",
    "1회 실행할 때마다 트레이닝 세트에서 추출한 100개의 데이터를 이용해 경사 하강법을 적용한다.\n",
    "\n",
    "최종적으로 테스트 세트에 대해 약 92%의 정답률을 얻을 수 있다."
   ]
  },
  {
   "cell_type": "code",
   "execution_count": 29,
   "metadata": {},
   "outputs": [
    {
     "name": "stdout",
     "output_type": "stream",
     "text": [
      "Step: 0, Loss: 22621.091797, Accuracy: 0.450700\n",
      "Step: 100, Loss: 7497.684082, Accuracy: 0.848000\n",
      "Step: 200, Loss: 5344.239258, Accuracy: 0.876700\n",
      "Step: 300, Loss: 4512.037598, Accuracy: 0.890800\n",
      "Step: 400, Loss: 4051.659668, Accuracy: 0.898000\n",
      "Step: 500, Loss: 3804.811035, Accuracy: 0.904000\n",
      "Step: 600, Loss: 3597.444092, Accuracy: 0.905600\n",
      "Step: 700, Loss: 3471.178223, Accuracy: 0.908300\n",
      "Step: 800, Loss: 3342.287842, Accuracy: 0.910700\n",
      "Step: 900, Loss: 3245.588379, Accuracy: 0.912100\n",
      "Step: 1000, Loss: 3186.593994, Accuracy: 0.913100\n",
      "Step: 1100, Loss: 3123.515137, Accuracy: 0.914800\n",
      "Step: 1200, Loss: 3067.337891, Accuracy: 0.916400\n",
      "Step: 1300, Loss: 3032.875488, Accuracy: 0.915800\n",
      "Step: 1400, Loss: 3003.780762, Accuracy: 0.917500\n",
      "Step: 1500, Loss: 2974.766357, Accuracy: 0.918200\n",
      "Step: 1600, Loss: 2934.073730, Accuracy: 0.918300\n",
      "Step: 1700, Loss: 2897.264160, Accuracy: 0.920000\n",
      "Step: 1800, Loss: 2880.638428, Accuracy: 0.921200\n",
      "Step: 1900, Loss: 2862.976074, Accuracy: 0.921200\n",
      "Step: 2000, Loss: 2848.474609, Accuracy: 0.919900\n",
      "Step: 2100, Loss: 2827.424316, Accuracy: 0.921500\n",
      "Step: 2200, Loss: 2828.514160, Accuracy: 0.920600\n",
      "Step: 2300, Loss: 2790.499023, Accuracy: 0.922900\n",
      "Step: 2400, Loss: 2814.209717, Accuracy: 0.921600\n",
      "Step: 2500, Loss: 2781.591797, Accuracy: 0.923600\n",
      "Step: 2600, Loss: 2757.062256, Accuracy: 0.924000\n",
      "Step: 2700, Loss: 2765.970947, Accuracy: 0.923600\n",
      "Step: 2800, Loss: 2759.228760, Accuracy: 0.923600\n",
      "Step: 2900, Loss: 2741.422852, Accuracy: 0.923700\n"
     ]
    }
   ],
   "source": [
    "for i in range(3000):\n",
    "    batch_xs, batch_ts = mnist.train.next_batch(100)\n",
    "    sess.run(train_step, feed_dict={x: batch_xs, t: batch_ts})\n",
    "    if i % 100 == 0:\n",
    "        loss_val, acc_val = sess.run([loss, accuracy],\n",
    "            feed_dict={x:mnist.test.images, t: mnist.test.labels})\n",
    "        print ('Step: %d, Loss: %f, Accuracy: %f'\n",
    "               % (i, loss_val, acc_val))"
   ]
  },
  {
   "cell_type": "markdown",
   "metadata": {},
   "source": [
    "**[MSE-08]** 이 시점의 파라미터를 이용해 테스트 세트에 대한 예측을 출력한다.\n",
    "\n",
    "여기서는 '0' ~ '9'의 숫자에 대해 정답과 오답 예를 3개씩 출력한다."
   ]
  },
  {
   "cell_type": "code",
   "execution_count": 30,
   "metadata": {},
   "outputs": [
    {
     "data": {
      "image/png": "[encoded data removed]",
      "text/plain": [
       "<Figure size 576x1440 with 60 Axes>"
      ]
     },
     "metadata": {},
     "output_type": "display_data"
    }
   ],
   "source": [
    "images, labels = mnist.test.images, mnist.test.labels\n",
    "p_val = sess.run(p, feed_dict={x:images, t: labels}) \n",
    "\n",
    "fig = plt.figure(figsize=(8,20))\n",
    "\n",
    "# 0번부터 9번까지\n",
    "for i in range(10):\n",
    "    \n",
    "    # 그림으로 나타낼 그림 갯수 (6개)\n",
    "    c = 1\n",
    "    for (image, label, pred) in zip(images, labels, p_val):\n",
    "        # prediction 값과, label 값을 구한다\n",
    "        prediction, actual = np.argmax(pred), np.argmax(label)\n",
    "        \n",
    "        # preidction이 i번째 숫자이면 다음 코드를 실행\n",
    "        if prediction != i:\n",
    "            continue\n",
    "            \n",
    "        # 왼족 3개는 일치하는 숫자 오른쪽 3개는 틀린 숫자 그림들\n",
    "        if (c < 4 and i == actual) or (c >= 4 and i != actual):\n",
    "            \n",
    "            # 10 x 6 칸에서 i * 6 + c번째 위치에\n",
    "            subplot = fig.add_subplot(10,6,i*6+c)\n",
    "            \n",
    "            # x축 y축 숫자 제거\n",
    "            subplot.set_xticks([])\n",
    "            subplot.set_yticks([])\n",
    "            \n",
    "            # 각 그림의 제목은 (예측하는 숫자 / 실제 label)\n",
    "            subplot.set_title('%d / %d' % (prediction, actual))\n",
    "            \n",
    "            # 그리기 (gray scale로)\n",
    "            subplot.imshow(image.reshape((28,28)), vmin=0, vmax=1,\n",
    "                           cmap=plt.cm.gray_r, interpolation=\"nearest\")\n",
    "            \n",
    "            # c count\n",
    "            c += 1\n",
    "            if c > 6:\n",
    "                break"
   ]
  },
  {
   "cell_type": "code",
   "execution_count": 31,
   "metadata": {},
   "outputs": [],
   "source": [
    "sess.close()"
   ]
  },
  {
   "cell_type": "code",
   "execution_count": null,
   "metadata": {},
   "outputs": [],
   "source": []
  }
 ],
 "metadata": {
  "kernelspec": {
   "display_name": "Python 3",
   "language": "python",
   "name": "python3"
  },
  "language_info": {
   "codemirror_mode": {
    "name": "ipython",
    "version": 3
   },
   "file_extension": ".py",
   "mimetype": "text/x-python",
   "name": "python",
   "nbconvert_exporter": "python",
   "pygments_lexer": "ipython3",
   "version": "3.6.8"
  }
 },
 "nbformat": 4,
 "nbformat_minor": 2
}
